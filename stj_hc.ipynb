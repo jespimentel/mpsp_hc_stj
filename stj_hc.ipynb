{
 "cells": [
  {
   "cell_type": "markdown",
   "id": "eebd78b2",
   "metadata": {},
   "source": [
    "## Os últimos 1000 HCs impetrados no STJ que interessam ao MPSP\n",
    "### 17/06/2022\n",
    "\n",
    "O presente notebook buscou obter os resultados dos HCs impetrados no STJ.\n",
    "\n",
    "A análise foi feita a partir de dataset composto dos últimos 1000 HCs impetrados no STJ. O arquivo \"csv\" foi gerado pelo STJ no dia 17 jun. 2022.\n",
    "\n",
    "O codigo foi escrito em Python. Foram utilizadas as bibliotecas pandas (para as operações com o dataframe), matplotlib (para os gráficos), requests (para as requisições http ao site do STJ) e beautifulsoup (para a extração dos dados dos documentos html recuperados). A engine 'xlsxwriter' foi usada para gravar o arquivo Excel em unicode\n"
   ]
  },
  {
   "cell_type": "code",
   "execution_count": 1,
   "id": "a08473ba",
   "metadata": {},
   "outputs": [],
   "source": [
    "import pandas as pd\n",
    "import matplotlib.pyplot as plt\n",
    "import requests\n",
    "from bs4 import BeautifulSoup"
   ]
  },
  {
   "cell_type": "code",
   "execution_count": 2,
   "id": "065e0ab6",
   "metadata": {},
   "outputs": [
    {
     "name": "stdout",
     "output_type": "stream",
     "text": [
      "Quantidade de processos no dataset: 1000\n"
     ]
    },
    {
     "data": {
      "text/html": [
       "<div>\n",
       "<style scoped>\n",
       "    .dataframe tbody tr th:only-of-type {\n",
       "        vertical-align: middle;\n",
       "    }\n",
       "\n",
       "    .dataframe tbody tr th {\n",
       "        vertical-align: top;\n",
       "    }\n",
       "\n",
       "    .dataframe thead th {\n",
       "        text-align: right;\n",
       "    }\n",
       "</style>\n",
       "<table border=\"1\" class=\"dataframe\">\n",
       "  <thead>\n",
       "    <tr style=\"text-align: right;\">\n",
       "      <th></th>\n",
       "      <th>Número de Registro</th>\n",
       "      <th>Número Único</th>\n",
       "      <th>Processo</th>\n",
       "      <th>Nome Parte Autora</th>\n",
       "      <th>Nome Parte Ré</th>\n",
       "      <th>Data da Última Fase</th>\n",
       "      <th>Fase</th>\n",
       "      <th>Tramitando</th>\n",
       "      <th>Orgão Julgador</th>\n",
       "      <th>Segredo de Justiça</th>\n",
       "      <th>Ministro Relator</th>\n",
       "      <th>Observações</th>\n",
       "      <th>Data Autuação</th>\n",
       "    </tr>\n",
       "  </thead>\n",
       "  <tbody>\n",
       "    <tr>\n",
       "      <th>119</th>\n",
       "      <td>202201858318</td>\n",
       "      <td>01858319820223000000</td>\n",
       "      <td>HC 749905</td>\n",
       "      <td>DEFENSORIA PÚBLICA DO ESTADO DE SÃO PAULO</td>\n",
       "      <td>TRIBUNAL DE JUSTIÇA DO ESTADO DE SÃO PAULO</td>\n",
       "      <td>2022-06-15 22:01:19+00:00</td>\n",
       "      <td>Conclusos para decisão ao(à) Ministro(a) JESUÍ...</td>\n",
       "      <td>S</td>\n",
       "      <td>QUINTA TURMA</td>\n",
       "      <td>N</td>\n",
       "      <td>JESUÍNO RISSATO (DESEMBARGADOR CONVOCADO DO TJ...</td>\n",
       "      <td>NaN</td>\n",
       "      <td>2022-06-15</td>\n",
       "    </tr>\n",
       "    <tr>\n",
       "      <th>204</th>\n",
       "      <td>202201835469</td>\n",
       "      <td>01835463520223000000</td>\n",
       "      <td>HC 749475</td>\n",
       "      <td>DEFENSORIA PÚBLICA DO ESTADO DE SÃO PAULO</td>\n",
       "      <td>TRIBUNAL DE JUSTIÇA DO ESTADO DE SÃO PAULO</td>\n",
       "      <td>2022-06-14 19:06:29+00:00</td>\n",
       "      <td>Conclusos para decisão ao(à) Ministro(a) REYNA...</td>\n",
       "      <td>S</td>\n",
       "      <td>QUINTA TURMA</td>\n",
       "      <td>N</td>\n",
       "      <td>REYNALDO SOARES DA FONSECA</td>\n",
       "      <td>NaN</td>\n",
       "      <td>2022-06-14</td>\n",
       "    </tr>\n",
       "    <tr>\n",
       "      <th>3</th>\n",
       "      <td>202201862405</td>\n",
       "      <td>01862407420223000000</td>\n",
       "      <td>HC 750113</td>\n",
       "      <td>CARLOS AGNALDO CARBONI</td>\n",
       "      <td>TRIBUNAL DE JUSTIÇA DO ESTADO DE SÃO PAULO</td>\n",
       "      <td>2022-06-15 18:15:37+00:00</td>\n",
       "      <td>Protocolizada Petição (originária) em 15/06/2022</td>\n",
       "      <td>S</td>\n",
       "      <td>NaN</td>\n",
       "      <td>N</td>\n",
       "      <td>NaN</td>\n",
       "      <td>NaN</td>\n",
       "      <td>2022-06-17</td>\n",
       "    </tr>\n",
       "  </tbody>\n",
       "</table>\n",
       "</div>"
      ],
      "text/plain": [
       "     Número de Registro          Número Único        Processo  \\\n",
       "119        202201858318  01858319820223000000  HC 749905        \n",
       "204        202201835469  01835463520223000000  HC 749475        \n",
       "3          202201862405  01862407420223000000  HC 750113        \n",
       "\n",
       "                             Nome Parte Autora  \\\n",
       "119  DEFENSORIA PÚBLICA DO ESTADO DE SÃO PAULO   \n",
       "204  DEFENSORIA PÚBLICA DO ESTADO DE SÃO PAULO   \n",
       "3                       CARLOS AGNALDO CARBONI   \n",
       "\n",
       "                                  Nome Parte Ré       Data da Última Fase  \\\n",
       "119  TRIBUNAL DE JUSTIÇA DO ESTADO DE SÃO PAULO 2022-06-15 22:01:19+00:00   \n",
       "204  TRIBUNAL DE JUSTIÇA DO ESTADO DE SÃO PAULO 2022-06-14 19:06:29+00:00   \n",
       "3    TRIBUNAL DE JUSTIÇA DO ESTADO DE SÃO PAULO 2022-06-15 18:15:37+00:00   \n",
       "\n",
       "                                                  Fase Tramitando  \\\n",
       "119  Conclusos para decisão ao(à) Ministro(a) JESUÍ...          S   \n",
       "204  Conclusos para decisão ao(à) Ministro(a) REYNA...          S   \n",
       "3     Protocolizada Petição (originária) em 15/06/2022          S   \n",
       "\n",
       "    Orgão Julgador Segredo de Justiça  \\\n",
       "119   QUINTA TURMA                  N   \n",
       "204   QUINTA TURMA                  N   \n",
       "3              NaN                  N   \n",
       "\n",
       "                                      Ministro Relator  Observações  \\\n",
       "119  JESUÍNO RISSATO (DESEMBARGADOR CONVOCADO DO TJ...          NaN   \n",
       "204                         REYNALDO SOARES DA FONSECA          NaN   \n",
       "3                                                  NaN          NaN   \n",
       "\n",
       "    Data Autuação  \n",
       "119    2022-06-15  \n",
       "204    2022-06-14  \n",
       "3      2022-06-17  "
      ]
     },
     "execution_count": 2,
     "metadata": {},
     "output_type": "execute_result"
    }
   ],
   "source": [
    "df = pd.read_csv('processosSTJ_hc_todos_data_de_autuacao_1000.csv', \n",
    "                 parse_dates=['Data da Última Fase', 'Data Autuação'])\n",
    "\n",
    "df = df.dropna(subset='Processo') # Exclusão dos registros sem o nº de processo.\n",
    "\n",
    "print(f'Quantidade de processos no dataset: {len(df)}')\n",
    "df.sample(3)"
   ]
  },
  {
   "cell_type": "code",
   "execution_count": 3,
   "id": "a0cfbd21",
   "metadata": {},
   "outputs": [
    {
     "name": "stdout",
     "output_type": "stream",
     "text": [
      "Intervado das datas de autuação: 2022-06-07 a 2022-06-17\n",
      "Total: 10 days\n"
     ]
    }
   ],
   "source": [
    "intervalo_autuacao = f\"{str(df['Data Autuação'].min())[0:10]} a {str(df['Data Autuação'].max())[0:10]}\"\n",
    "print(f\"Intervado das datas de autuação: {intervalo_autuacao}\")\n",
    "print(f\"Total: {str(df['Data Autuação'].max() - df['Data Autuação'].min())[0:7]}\")"
   ]
  },
  {
   "cell_type": "code",
   "execution_count": 4,
   "id": "fad2f2ca",
   "metadata": {},
   "outputs": [
    {
     "data": {
      "text/plain": [
       "DEFENSORIA PÚBLICA DO ESTADO DE SÃO PAULO    283\n",
       "JOSE MAURICIO CAMARGO                         15\n",
       "MATHEUS FERNANDO DA SILVA DOS SANTOS          14\n",
       "BRUNO LEANDRO DIAS                            11\n",
       "LARISSA CRISTINE SILVA PIERAZO                10\n",
       "DEFENSORIA PÚBLICA DA UNIÃO                    9\n",
       "VICTOR HUGO ANUVALE RODRIGUES                  9\n",
       "DANIELLI DEL CISTIA                            8\n",
       "KLEAN CINTRA PRADO                             6\n",
       "FELIPE QUEIROZ GOMES                           6\n",
       "Name: Nome Parte Autora, dtype: int64"
      ]
     },
     "execution_count": 4,
     "metadata": {},
     "output_type": "execute_result"
    }
   ],
   "source": [
    "# Top 10 dos autores de HC:\n",
    "\n",
    "autores = df['Nome Parte Autora'].value_counts()\n",
    "autores.head(10)"
   ]
  },
  {
   "cell_type": "code",
   "execution_count": 5,
   "id": "40b1ead9",
   "metadata": {},
   "outputs": [
    {
     "data": {
      "image/png": "[encoded data removed]",
      "text/plain": [
       "<Figure size 864x720 with 1 Axes>"
      ]
     },
     "metadata": {},
     "output_type": "display_data"
    }
   ],
   "source": [
    "autores.head(10).plot.pie(title= f'Top 10 impetrantes de HC entre {intervalo_autuacao}', figsize=(12,10), autopct='%1.1f%%')\n",
    "plt.savefig('hc.jpg')\n",
    "plt.show()"
   ]
  },
  {
   "cell_type": "code",
   "execution_count": 6,
   "id": "ec826e60",
   "metadata": {},
   "outputs": [],
   "source": [
    "# Preparação do dataframe para o webscraping\n",
    "\n",
    "df['Número de Registro'] = df['Número de Registro'].astype(str)\n",
    "df['Data da Última Fase'] = df['Data da Última Fase'].dt.tz_localize(None) # Remove timezone\n",
    "df['Monocrática'] = ''\n",
    "df['Acórdão'] = ''\n",
    "\n",
    "# Funções \n",
    "\n",
    "def requisita_monocratica(registro):\n",
    "    \"\"\"Retorna o texto da decisão monocrática em para o registro fornecido\"\"\"\n",
    "    response = requests.post(f'https://scon.stj.jus.br/SCON/pesquisar.jsp?livre={registro}&b=DTXT&p=true&tp=T')\n",
    "    html = response.text # ver: https://stackoverflow.com/questions/17011357/what-is-the-difference-between-content-and-text \n",
    "    return html\n",
    "\n",
    "def requisita_acordao(registro):\n",
    "    \"\"\"Retorna o texto do acórdao ou ementa para o registro fornecido\"\"\"\n",
    "    response = requests.post(f'https://scon.stj.jus.br/SCON/pesquisar.jsp?livre={registro}&b=ACOR&p=true&tp=T')\n",
    "    html = response.text # ver: https://stackoverflow.com/questions/17011357/what-is-the-difference-between-content-and-text \n",
    "    return html\n",
    "\n",
    "def encontra_conteudo (html):\n",
    "    \"\"\"Retorna o conteúdo da id em formato texto e sem as tags do html\"\"\"\n",
    "    soup = BeautifulSoup(html, 'html.parser')\n",
    "    conteudo = soup.find(id=\"Semformatacao1\") # com as tags\n",
    "    return conteudo.text # sem as tags"
   ]
  },
  {
   "cell_type": "code",
   "execution_count": 7,
   "id": "92ba4a71",
   "metadata": {},
   "outputs": [],
   "source": [
    "# Percorrendo o dataframe\n",
    "\n",
    "for i in df.index:\n",
    "    registro = df.loc[i, 'Número de Registro']\n",
    "    html = requisita_monocratica(registro)\n",
    "    try:\n",
    "        df.loc[i, 'Monocrática'] = encontra_conteudo(html)\n",
    "    except:\n",
    "        df.loc[i, 'Monocrática'] = 'Não encontrado'\n",
    "    html = requisita_acordao(registro)\n",
    "    try:\n",
    "        df.loc[i, 'Acórdão'] = encontra_conteudo(html)\n",
    "    except:\n",
    "        df.loc[i, 'Acórdão'] = 'Não encontrado'"
   ]
  },
  {
   "cell_type": "code",
   "execution_count": 8,
   "id": "db345bda",
   "metadata": {},
   "outputs": [
    {
     "data": {
      "text/html": [
       "<div>\n",
       "<style scoped>\n",
       "    .dataframe tbody tr th:only-of-type {\n",
       "        vertical-align: middle;\n",
       "    }\n",
       "\n",
       "    .dataframe tbody tr th {\n",
       "        vertical-align: top;\n",
       "    }\n",
       "\n",
       "    .dataframe thead th {\n",
       "        text-align: right;\n",
       "    }\n",
       "</style>\n",
       "<table border=\"1\" class=\"dataframe\">\n",
       "  <thead>\n",
       "    <tr style=\"text-align: right;\">\n",
       "      <th></th>\n",
       "      <th>Número de Registro</th>\n",
       "      <th>Número Único</th>\n",
       "      <th>Processo</th>\n",
       "      <th>Nome Parte Autora</th>\n",
       "      <th>Nome Parte Ré</th>\n",
       "      <th>Data da Última Fase</th>\n",
       "      <th>Fase</th>\n",
       "      <th>Tramitando</th>\n",
       "      <th>Orgão Julgador</th>\n",
       "      <th>Segredo de Justiça</th>\n",
       "      <th>Ministro Relator</th>\n",
       "      <th>Observações</th>\n",
       "      <th>Data Autuação</th>\n",
       "      <th>Monocrática</th>\n",
       "      <th>Acórdão</th>\n",
       "    </tr>\n",
       "  </thead>\n",
       "  <tbody>\n",
       "    <tr>\n",
       "      <th>63</th>\n",
       "      <td>202201849319</td>\n",
       "      <td>01849311820223000000</td>\n",
       "      <td>HC 749801</td>\n",
       "      <td>DEFENSORIA PÚBLICA DO ESTADO DE SÃO PAULO</td>\n",
       "      <td>TRIBUNAL DE JUSTIÇA DO ESTADO DE SÃO PAULO</td>\n",
       "      <td>2022-06-17 11:32:32</td>\n",
       "      <td>Conclusos para decisão ao(à) Ministro(a) ANTON...</td>\n",
       "      <td>S</td>\n",
       "      <td>SEXTA TURMA</td>\n",
       "      <td>N</td>\n",
       "      <td>ANTONIO SALDANHA PALHEIRO</td>\n",
       "      <td>NaN</td>\n",
       "      <td>2022-06-15</td>\n",
       "      <td>Não encontrado</td>\n",
       "      <td>Não encontrado</td>\n",
       "    </tr>\n",
       "    <tr>\n",
       "      <th>354</th>\n",
       "      <td>202201816486</td>\n",
       "      <td>01816488420223000000</td>\n",
       "      <td>HC 749065</td>\n",
       "      <td>REJANE DINIZ DE OLIVEIRA</td>\n",
       "      <td>TRIBUNAL DE JUSTIÇA DO ESTADO DE SÃO PAULO</td>\n",
       "      <td>2022-06-17 11:30:54</td>\n",
       "      <td>Conclusos para decisão ao(à) Ministro(a) OLIND...</td>\n",
       "      <td>S</td>\n",
       "      <td>SEXTA TURMA</td>\n",
       "      <td>N</td>\n",
       "      <td>OLINDO MENEZES (DESEMBARGADOR CONVOCADO DO TRF...</td>\n",
       "      <td>NaN</td>\n",
       "      <td>2022-06-13</td>\n",
       "      <td>Não encontrado</td>\n",
       "      <td>Não encontrado</td>\n",
       "    </tr>\n",
       "    <tr>\n",
       "      <th>196</th>\n",
       "      <td>202201835077</td>\n",
       "      <td>01835073820223000000</td>\n",
       "      <td>HC 749576</td>\n",
       "      <td>MATHEUS EDUARDO RICORDI SANTAROSA</td>\n",
       "      <td>TRIBUNAL DE JUSTIÇA DO ESTADO DE SÃO PAULO</td>\n",
       "      <td>2022-06-17 11:32:04</td>\n",
       "      <td>Conclusos para decisão ao(à) Ministro(a) LAURI...</td>\n",
       "      <td>S</td>\n",
       "      <td>SEXTA TURMA</td>\n",
       "      <td>N</td>\n",
       "      <td>LAURITA VAZ</td>\n",
       "      <td>NaN</td>\n",
       "      <td>2022-06-14</td>\n",
       "      <td>Não encontrado</td>\n",
       "      <td>Não encontrado</td>\n",
       "    </tr>\n",
       "    <tr>\n",
       "      <th>814</th>\n",
       "      <td>202201771886</td>\n",
       "      <td>01771885420223000000</td>\n",
       "      <td>HC 748248</td>\n",
       "      <td>MAURICIO DE MELLO MARCHIORI</td>\n",
       "      <td>TRIBUNAL DE JUSTIÇA DO ESTADO DE SÃO PAULO</td>\n",
       "      <td>2022-06-15 18:36:01</td>\n",
       "      <td>Juntada de Petição de RECURSO ORDINÁRIO nº 514...</td>\n",
       "      <td>S</td>\n",
       "      <td>QUINTA TURMA</td>\n",
       "      <td>N</td>\n",
       "      <td>PRESIDENTE DO STJ</td>\n",
       "      <td>NaN</td>\n",
       "      <td>2022-06-08</td>\n",
       "      <td>\\n\\r\\nHABEAS CORPUS Nº 748248 - SP (2022/01771...</td>\n",
       "      <td>Não encontrado</td>\n",
       "    </tr>\n",
       "    <tr>\n",
       "      <th>824</th>\n",
       "      <td>202201772900</td>\n",
       "      <td>01772907620223000000</td>\n",
       "      <td>HC 748268</td>\n",
       "      <td>DEFENSORIA PÚBLICA DO ESTADO DE SÃO PAULO</td>\n",
       "      <td>TRIBUNAL DE JUSTIÇA DO ESTADO DE SÃO PAULO</td>\n",
       "      <td>2022-06-15 18:41:00</td>\n",
       "      <td>Juntada de Petição de CIÊNCIA PELO MPF nº 5145...</td>\n",
       "      <td>S</td>\n",
       "      <td>SEXTA TURMA</td>\n",
       "      <td>N</td>\n",
       "      <td>ROGERIO SCHIETTI CRUZ</td>\n",
       "      <td>NaN</td>\n",
       "      <td>2022-06-08</td>\n",
       "      <td>\\n\\r\\nHABEAS CORPUS Nº 748268 - SP (2022/01772...</td>\n",
       "      <td>Não encontrado</td>\n",
       "    </tr>\n",
       "  </tbody>\n",
       "</table>\n",
       "</div>"
      ],
      "text/plain": [
       "    Número de Registro          Número Único        Processo  \\\n",
       "63        202201849319  01849311820223000000  HC 749801        \n",
       "354       202201816486  01816488420223000000  HC 749065        \n",
       "196       202201835077  01835073820223000000  HC 749576        \n",
       "814       202201771886  01771885420223000000  HC 748248        \n",
       "824       202201772900  01772907620223000000  HC 748268        \n",
       "\n",
       "                             Nome Parte Autora  \\\n",
       "63   DEFENSORIA PÚBLICA DO ESTADO DE SÃO PAULO   \n",
       "354                   REJANE DINIZ DE OLIVEIRA   \n",
       "196          MATHEUS EDUARDO RICORDI SANTAROSA   \n",
       "814                MAURICIO DE MELLO MARCHIORI   \n",
       "824  DEFENSORIA PÚBLICA DO ESTADO DE SÃO PAULO   \n",
       "\n",
       "                                  Nome Parte Ré Data da Última Fase  \\\n",
       "63   TRIBUNAL DE JUSTIÇA DO ESTADO DE SÃO PAULO 2022-06-17 11:32:32   \n",
       "354  TRIBUNAL DE JUSTIÇA DO ESTADO DE SÃO PAULO 2022-06-17 11:30:54   \n",
       "196  TRIBUNAL DE JUSTIÇA DO ESTADO DE SÃO PAULO 2022-06-17 11:32:04   \n",
       "814  TRIBUNAL DE JUSTIÇA DO ESTADO DE SÃO PAULO 2022-06-15 18:36:01   \n",
       "824  TRIBUNAL DE JUSTIÇA DO ESTADO DE SÃO PAULO 2022-06-15 18:41:00   \n",
       "\n",
       "                                                  Fase Tramitando  \\\n",
       "63   Conclusos para decisão ao(à) Ministro(a) ANTON...          S   \n",
       "354  Conclusos para decisão ao(à) Ministro(a) OLIND...          S   \n",
       "196  Conclusos para decisão ao(à) Ministro(a) LAURI...          S   \n",
       "814  Juntada de Petição de RECURSO ORDINÁRIO nº 514...          S   \n",
       "824  Juntada de Petição de CIÊNCIA PELO MPF nº 5145...          S   \n",
       "\n",
       "    Orgão Julgador Segredo de Justiça  \\\n",
       "63     SEXTA TURMA                  N   \n",
       "354    SEXTA TURMA                  N   \n",
       "196    SEXTA TURMA                  N   \n",
       "814   QUINTA TURMA                  N   \n",
       "824    SEXTA TURMA                  N   \n",
       "\n",
       "                                      Ministro Relator  Observações  \\\n",
       "63                           ANTONIO SALDANHA PALHEIRO          NaN   \n",
       "354  OLINDO MENEZES (DESEMBARGADOR CONVOCADO DO TRF...          NaN   \n",
       "196                                        LAURITA VAZ          NaN   \n",
       "814                                  PRESIDENTE DO STJ          NaN   \n",
       "824                              ROGERIO SCHIETTI CRUZ          NaN   \n",
       "\n",
       "    Data Autuação                                        Monocrática  \\\n",
       "63     2022-06-15                                     Não encontrado   \n",
       "354    2022-06-13                                     Não encontrado   \n",
       "196    2022-06-14                                     Não encontrado   \n",
       "814    2022-06-08  \\n\\r\\nHABEAS CORPUS Nº 748248 - SP (2022/01771...   \n",
       "824    2022-06-08  \\n\\r\\nHABEAS CORPUS Nº 748268 - SP (2022/01772...   \n",
       "\n",
       "            Acórdão  \n",
       "63   Não encontrado  \n",
       "354  Não encontrado  \n",
       "196  Não encontrado  \n",
       "814  Não encontrado  \n",
       "824  Não encontrado  "
      ]
     },
     "execution_count": 8,
     "metadata": {},
     "output_type": "execute_result"
    }
   ],
   "source": [
    "df.sample(5)"
   ]
  },
  {
   "cell_type": "code",
   "execution_count": 9,
   "id": "837b9158",
   "metadata": {},
   "outputs": [],
   "source": [
    "# Exportando o resultado para planilha Excel\n",
    "\n",
    "df.to_excel('hc.xlsx', engine='xlsxwriter')"
   ]
  },
  {
   "cell_type": "code",
   "execution_count": 10,
   "id": "19ca8f4c",
   "metadata": {},
   "outputs": [
    {
     "data": {
      "text/plain": [
       "1000"
      ]
     },
     "execution_count": 10,
     "metadata": {},
     "output_type": "execute_result"
    }
   ],
   "source": [
    "len(df)"
   ]
  },
  {
   "cell_type": "code",
   "execution_count": 11,
   "id": "a3716995",
   "metadata": {},
   "outputs": [
    {
     "name": "stdout",
     "output_type": "stream",
     "text": [
      "Total de HCs com decisões monocráticas ou acórdãos: 534\n"
     ]
    }
   ],
   "source": [
    "# HCs com decisões monocráticas ou acórdãos\n",
    "\n",
    "criterio = (df['Monocrática'] != 'Não encontrado') | (df['Acórdão'] != 'Não encontrado')\n",
    "df1 = df[criterio]\n",
    "print(f\"Total de HCs com decisões monocráticas ou acórdãos: {len(df1)}\")"
   ]
  },
  {
   "cell_type": "code",
   "execution_count": 12,
   "id": "4e0feb15",
   "metadata": {},
   "outputs": [],
   "source": [
    "# Exportando o resultado para arquivo texto\n",
    "\n",
    "with open ('hc.txt', 'w') as f:\n",
    "    f.write(f\"HABEAS CORPUS IMPETRADOS NO STJ ENTRE {intervalo_autuacao}\\n\\n\")\n",
    "    f.write(f\"- Nº de HCs pesquisados: {len(df)}\\n\\n\")\n",
    "    f.write(f\"Total de HCs com decisões monocráticas ou acórdãos: {len(df1)}\\n\\n\")\n",
    "    f.write(\"__________\\n\\n\")\n",
    "    \n",
    "    for i in df1.index:\n",
    "        f.write(f\"Data Autuação: {df1['Data Autuação'][i]} - Processo: {df1['Processo'][i]}\\n\")\n",
    "        f.write(f\"Ministro Relator: {df1['Ministro Relator'][i]} - Órgão Julgador: {df1['Orgão Julgador'][i]}\\n\")\n",
    "        f.write(f\"Nome Parte Autora: {df1['Nome Parte Autora'][i]}\\n\")\n",
    "        f.write(f\"Nome Parte Ré: {df1['Nome Parte Ré'][i]}\\n\")\n",
    "        f.write(f\"Data da Última Fase: {str(df1['Data da Última Fase'][i])[0:10]}\\n\")\n",
    "        f.write(\"__________\\n\\n\")\n",
    "        f.write(f\"DECISÃO MONOCRÁTICA:\\n{df1['Monocrática'][i]}\\n\\n\")\n",
    "        f.write(f\"ACÓRDÃO:\\n{df1['Acórdão'][i]}\\n\")\n",
    "        f.write(f\"\\n**************** Fim dos dados do {df1['Processo'][i]} ****************\\n\\n\")"
   ]
  }
 ],
 "metadata": {
  "kernelspec": {
   "display_name": "Python 3 (ipykernel)",
   "language": "python",
   "name": "python3"
  },
  "language_info": {
   "codemirror_mode": {
    "name": "ipython",
    "version": 3
   },
   "file_extension": ".py",
   "mimetype": "text/x-python",
   "name": "python",
   "nbconvert_exporter": "python",
   "pygments_lexer": "ipython3",
   "version": "3.9.10"
  },
  "vscode": {
   "interpreter": {
    "hash": "ecef723895d47fc64236b8a19ea9290551371690afa251e7c832db32e5b8b445"
   }
  }
 },
 "nbformat": 4,
 "nbformat_minor": 5
}
